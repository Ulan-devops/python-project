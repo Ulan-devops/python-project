{
 "cells": [
  {
   "cell_type": "code",
   "execution_count": 10,
   "metadata": {},
   "outputs": [
    {
     "name": "stdout",
     "output_type": "stream",
     "text": [
      "nothing\n"
     ]
    }
   ],
   "source": [
    "# if statement\n",
    "\n",
    "door = 'not sure'\n",
    "\n",
    "if door == 'open':\n",
    "    print ('Yes, you can go !!!')\n",
    "elif door == 'close':\n",
    "    print ('stop')\n",
    "\n",
    "else:\n",
    "    print ('nothing')"
   ]
  },
  {
   "cell_type": "code",
   "execution_count": 22,
   "metadata": {},
   "outputs": [
    {
     "name": "stdout",
     "output_type": "stream",
     "text": [
      "What is your name? bob\n",
      "Hey Bob\n"
     ]
    }
   ],
   "source": [
    "# input\n",
    "\n",
    "name = input('What is your name? ')\n",
    "\n",
    "name = name.capitalize()\n",
    "\n",
    "if name.capitalize() == 'sam':\n",
    "    print ('Privet ' + name)\n",
    "    \n",
    "elif name.capitalize() == 'bob':\n",
    "    print ('Hello ' + name)\n",
    "    \n",
    "else:\n",
    "    print ('Hey ' + name)\n",
    "    "
   ]
  },
  {
   "cell_type": "code",
   "execution_count": 28,
   "metadata": {},
   "outputs": [
    {
     "name": "stdout",
     "output_type": "stream",
     "text": [
      "What is your name? tom\n",
      "Access Granted\n"
     ]
    }
   ],
   "source": [
    "# if statement\n",
    "\n",
    "black_list = ['Bob', 'Anna', 'Sam']\n",
    "student = input ('What is your name? ')\n",
    "\n",
    "student = student.capitalize()\n",
    "\n",
    "if student in black_list:\n",
    "    print ('Sorry ' + student +  \", permission denied.\")\n",
    "elif student not in black_list:\n",
    "    print ('Access Granted')\n",
    "    "
   ]
  },
  {
   "cell_type": "code",
   "execution_count": 29,
   "metadata": {},
   "outputs": [
    {
     "name": "stdout",
     "output_type": "stream",
     "text": [
      "What is your name? bob\n",
      "Bob\n"
     ]
    }
   ],
   "source": [
    "name = input('What is your name? ').capitalize()\n",
    "print (name)"
   ]
  },
  {
   "cell_type": "code",
   "execution_count": 32,
   "metadata": {},
   "outputs": [
    {
     "name": "stdout",
     "output_type": "stream",
     "text": [
      "What is your name? bob\n",
      "What is your birth year? 2009\n",
      "Your name is Bob, and your age is 10.\n"
     ]
    }
   ],
   "source": [
    "name = input ('What is your name? ').capitalize()\n",
    "year  = int(input('What is your birth year? '))\n",
    "now  = 2019\n",
    "age = now - year\n",
    "print (f'Your name is {name}, and your age is {age}.')"
   ]
  },
  {
   "cell_type": "code",
   "execution_count": 34,
   "metadata": {},
   "outputs": [
    {
     "name": "stdout",
     "output_type": "stream",
     "text": [
      "Access Granted\n"
     ]
    }
   ],
   "source": [
    "door = True\n",
    "\n",
    "if door: \n",
    "    print ('Access Granted')\n",
    "else:\n",
    "    print ('Access Denied')"
   ]
  },
  {
   "cell_type": "code",
   "execution_count": 54,
   "metadata": {},
   "outputs": [
    {
     "name": "stdout",
     "output_type": "stream",
     "text": [
      "{'first_name': 'Abdul', 'last_name': 'Sharif', 'username': 'asharif', 'password': 'redhat', 'status': True, 'classes': ['Python', 'Terraform', 'Ansible']}\n"
     ]
    }
   ],
   "source": [
    "student = {'first_name': 'Abdul',\n",
    "           'last_name': 'Sharif',\n",
    "           'username' : 'asharif',\n",
    "           'password' : 'redhat',\n",
    "           'status' : True ,\n",
    "           'classes': ['Python', 'Terraform', 'Ansible']\n",
    "          }\n",
    "print (student)"
   ]
  },
  {
   "cell_type": "code",
   "execution_count": 36,
   "metadata": {},
   "outputs": [
    {
     "name": "stdout",
     "output_type": "stream",
     "text": [
      "['Python', 'Terraform', 'Ansible']\n"
     ]
    }
   ],
   "source": [
    "print (student['classes'])"
   ]
  },
  {
   "cell_type": "code",
   "execution_count": 64,
   "metadata": {},
   "outputs": [
    {
     "name": "stdout",
     "output_type": "stream",
     "text": [
      "___________________________\n",
      "# Info about Abdul Sharif #\n",
      "___________________________\n",
      "# Username: asharif\n",
      "# First_Name: Abdul\n",
      "# Access Granted\n",
      "# Abdul attends Python class.\n"
     ]
    }
   ],
   "source": [
    "print ('___________________________')\n",
    "print (f'# Info about {student[\"first_name\"]} {student[\"last_name\"]} #')\n",
    "print ('___________________________')\n",
    "print (f'# Username: {student[\"username\"]}')\n",
    "print (f'# First_Name: {student[\"first_name\"]}')       \n",
    "\n",
    "if student['status']:\n",
    "       print ('# Access Granted')\n",
    "else:\n",
    "       print ('# Access Denied')\n",
    "       \n",
    "if 'Python' in student['classes']:\n",
    "       print (f'# {student[\"first_name\"]} attends Python class.')"
   ]
  },
  {
   "cell_type": "code",
   "execution_count": null,
   "metadata": {},
   "outputs": [],
   "source": []
  }
 ],
 "metadata": {
  "kernelspec": {
   "display_name": "Python 3",
   "language": "python",
   "name": "python3"
  },
  "language_info": {
   "codemirror_mode": {
    "name": "ipython",
    "version": 3
   },
   "file_extension": ".py",
   "mimetype": "text/x-python",
   "name": "python",
   "nbconvert_exporter": "python",
   "pygments_lexer": "ipython3",
   "version": "3.6.5"
  }
 },
 "nbformat": 4,
 "nbformat_minor": 2
}
