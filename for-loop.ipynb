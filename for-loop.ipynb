{
 "cells": [
  {
   "cell_type": "code",
   "execution_count": 2,
   "metadata": {},
   "outputs": [
    {
     "name": "stdout",
     "output_type": "stream",
     "text": [
      "bob\n",
      "sam\n",
      "amy\n",
      "0 Hello\n",
      "1 Hello\n",
      "2 Hello\n"
     ]
    }
   ],
   "source": [
    "users = ['bob', 'sam', 'amy']\n",
    "for i in users:\n",
    "    print (i)\n",
    "\n",
    "for number in range (0, 3):\n",
    "    print (number, 'Hello')"
   ]
  },
  {
   "cell_type": "code",
   "execution_count": 67,
   "metadata": {},
   "outputs": [
    {
     "name": "stdout",
     "output_type": "stream",
     "text": [
      "first_name Eve\n",
      "id\n",
      "id 5\n",
      "Charles 5\n"
     ]
    }
   ],
   "source": [
    "data = [\n",
    "    {\n",
    "    \"avatar\": \"https://s3.amazonaws.com/uifaces/faces/twitter/marcoramires/128.jpg\",\n",
    "    \"first_name\": \"Eve\",\n",
    "    \"id\": 4,\n",
    "    \"last_name\": \"Holt\"\n",
    "    },\n",
    "    {\n",
    "    \"avatar\": \"https://s3.amazonaws.com/uifaces/faces/twitter/stephenmoon/128.jpg\",\n",
    "    \"first_name\": \"Charles\",\n",
    "    \"id\": 5,\n",
    "    \"last_name\": \"Morris\"\n",
    "    },\n",
    "    {\n",
    "    \"avatar\": \"https://s3.amazonaws.com/uifaces/faces/twitter/bigmancho/128.jpg\",\n",
    "    \"first_name\": \"Tracey\",\n",
    "    \"id\": 6,\n",
    "    \"last_name\": \"Ramos\"\n",
    "    }\n",
    "]\n",
    "\n",
    "#for user in data:\n",
    "#    if user['first_name'] == 'Charles':\n",
    "#        print (user)\n",
    "\n",
    "for k,v in data[0].items():\n",
    "    if v == 'Eve':\n",
    "        print (k, v)\n",
    "\n",
    "for k,v in data[0].items():\n",
    "    if v == 4:\n",
    "        print (k)\n",
    "        \n",
    "for k,v in data[1].items():\n",
    "    if v == 5:\n",
    "        print (k, v)\n",
    "        \n",
    "for user in data:\n",
    "    if 'Charles' == user['first_name']:\n",
    "        print (user['first_name'], user['id'])\n"
   ]
  },
  {
   "cell_type": "code",
   "execution_count": 28,
   "metadata": {},
   "outputs": [
    {
     "name": "stdout",
     "output_type": "stream",
     "text": [
      "This is my string\n",
      "Yes\n",
      "Yes\n",
      "Yes\n",
      "Yes\n"
     ]
    }
   ],
   "source": [
    "my_string = 'This is my string'\n",
    "print (my_string)\n",
    "\n",
    "for item in my_string:\n",
    "    if 'This' == item:\n",
    "        print ('Yes')\n",
    "\n",
    "for item in my_string.split(' '):\n",
    "    print ('Yes')\n",
    "\n",
    "#    if 'This' in my_string:\n",
    "#        print ('Yes')"
   ]
  },
  {
   "cell_type": "code",
   "execution_count": 70,
   "metadata": {},
   "outputs": [
    {
     "name": "stdout",
     "output_type": "stream",
     "text": [
      "{'username': 'bob1', 'password': 'secure', 'classes': ['Python', 'Jenkins', 'Ansible']}\n"
     ]
    },
    {
     "ename": "NameError",
     "evalue": "name 'username' is not defined",
     "output_type": "error",
     "traceback": [
      "\u001b[0;31m---------------------------------------------------------------------------\u001b[0m",
      "\u001b[0;31mNameError\u001b[0m                                 Traceback (most recent call last)",
      "\u001b[0;32m<ipython-input-70-7fb638a13277>\u001b[0m in \u001b[0;36m<module>\u001b[0;34m\u001b[0m\n\u001b[1;32m      5\u001b[0m \u001b[0;34m\u001b[0m\u001b[0m\n\u001b[1;32m      6\u001b[0m \u001b[0;32mfor\u001b[0m \u001b[0mc\u001b[0m \u001b[0;32min\u001b[0m \u001b[0mstudent\u001b[0m\u001b[0;34m[\u001b[0m\u001b[0;34m'classes'\u001b[0m\u001b[0;34m]\u001b[0m\u001b[0;34m:\u001b[0m\u001b[0;34m\u001b[0m\u001b[0m\n\u001b[0;32m----> 7\u001b[0;31m     \u001b[0mprint\u001b[0m \u001b[0;34m(\u001b[0m\u001b[0;34mf'User {student[username]} is taking the following classes: {c}'\u001b[0m\u001b[0;34m)\u001b[0m\u001b[0;34m\u001b[0m\u001b[0m\n\u001b[0m",
      "\u001b[0;31mNameError\u001b[0m: name 'username' is not defined"
     ]
    }
   ],
   "source": [
    "student = {'username': 'bob1',\n",
    "           'password': 'secure',\n",
    "           'classes' : ['Python', 'Jenkins', 'Ansible']}\n",
    "print (student)\n",
    "\n",
    "for c in student['classes']:\n",
    "    print (f'User {student[username]} is taking the following classes: {c}')\n"
   ]
  },
  {
   "cell_type": "code",
   "execution_count": 2,
   "metadata": {},
   "outputs": [
    {
     "name": "stdout",
     "output_type": "stream",
     "text": [
      "Enter full name: bob smith\n",
      "Enter username: BOB1\n",
      "Enter password: secure\n",
      "You successfully registerd\n",
      "Do you want to turn off?  yes/no : no\n",
      "Enter full name: Amy Smith\n",
      "Enter username: AMY1\n",
      "Enter password: secure\n",
      "You successfully registerd\n",
      "Do you want to turn off?  yes/no : y\n",
      "Turning off !!!\n",
      "[{'fullname': 'Bob smith', 'username': 'bob1', 'password': 'secure'}, {'fullname': 'Amy smith', 'username': 'amy1', 'password': 'secure'}]\n"
     ]
    }
   ],
   "source": [
    "import time \n",
    "database = []\n",
    "yesAnswer = ['YES', 'Yes', 'y', 'Y', 'YeS', 'yes']\n",
    "while True:\n",
    "    studentObject = {}\n",
    "    studentObject ['fullname'] = input ('Enter full name: ').capitalize()\n",
    "    studentObject ['username'] = input ('Enter username: ').lower()\n",
    "    studentObject ['password'] = input ('Enter password: ')\n",
    "    time.sleep(2)\n",
    "    database.append(studentObject)\n",
    "    print (f'You successfully registerd')\n",
    "    \n",
    "    time.sleep(10)\n",
    "    \n",
    "    answer = input ('Do you want to turn off?  yes/no : ')\n",
    "    if answer in yesAnswer:\n",
    "        print ('Turning off !!!')\n",
    "        break \n",
    "    \n",
    "print (database)"
   ]
  },
  {
   "cell_type": "code",
   "execution_count": null,
   "metadata": {},
   "outputs": [],
   "source": []
  },
  {
   "cell_type": "code",
   "execution_count": null,
   "metadata": {},
   "outputs": [],
   "source": []
  }
 ],
 "metadata": {
  "kernelspec": {
   "display_name": "Python 3",
   "language": "python",
   "name": "python3"
  },
  "language_info": {
   "codemirror_mode": {
    "name": "ipython",
    "version": 3
   },
   "file_extension": ".py",
   "mimetype": "text/x-python",
   "name": "python",
   "nbconvert_exporter": "python",
   "pygments_lexer": "ipython3",
   "version": "3.6.5"
  }
 },
 "nbformat": 4,
 "nbformat_minor": 2
}
