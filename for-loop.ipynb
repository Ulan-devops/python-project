{
 "cells": [
  {
   "cell_type": "code",
   "execution_count": 2,
   "metadata": {},
   "outputs": [
    {
     "name": "stdout",
     "output_type": "stream",
     "text": [
      "bob\n",
      "sam\n",
      "amy\n",
      "0 Hello\n",
      "1 Hello\n",
      "2 Hello\n"
     ]
    }
   ],
   "source": [
    "users = ['bob', 'sam', 'amy']\n",
    "for i in users:\n",
    "    print (i)\n",
    "\n",
    "for number in range (0, 3):\n",
    "    print (number, 'Hello')"
   ]
  },
  {
   "cell_type": "code",
   "execution_count": 67,
   "metadata": {},
   "outputs": [
    {
     "name": "stdout",
     "output_type": "stream",
     "text": [
      "first_name Eve\n",
      "id\n",
      "id 5\n",
      "Charles 5\n"
     ]
    }
   ],
   "source": [
    "data = [\n",
    "    {\n",
    "    \"avatar\": \"https://s3.amazonaws.com/uifaces/faces/twitter/marcoramires/128.jpg\",\n",
    "    \"first_name\": \"Eve\",\n",
    "    \"id\": 4,\n",
    "    \"last_name\": \"Holt\"\n",
    "    },\n",
    "    {\n",
    "    \"avatar\": \"https://s3.amazonaws.com/uifaces/faces/twitter/stephenmoon/128.jpg\",\n",
    "    \"first_name\": \"Charles\",\n",
    "    \"id\": 5,\n",
    "    \"last_name\": \"Morris\"\n",
    "    },\n",
    "    {\n",
    "    \"avatar\": \"https://s3.amazonaws.com/uifaces/faces/twitter/bigmancho/128.jpg\",\n",
    "    \"first_name\": \"Tracey\",\n",
    "    \"id\": 6,\n",
    "    \"last_name\": \"Ramos\"\n",
    "    }\n",
    "]\n",
    "\n",
    "#for user in data:\n",
    "#    if user['first_name'] == 'Charles':\n",
    "#        print (user)\n",
    "\n",
    "for k,v in data[0].items():\n",
    "    if v == 'Eve':\n",
    "        print (k, v)\n",
    "\n",
    "for k,v in data[0].items():\n",
    "    if v == 4:\n",
    "        print (k)\n",
    "        \n",
    "for k,v in data[1].items():\n",
    "    if v == 5:\n",
    "        print (k, v)\n",
    "        \n",
    "for user in data:\n",
    "    if 'Charles' == user['first_name']:\n",
    "        print (user['first_name'], user['id'])\n"
   ]
  },
  {
   "cell_type": "code",
   "execution_count": 28,
   "metadata": {},
   "outputs": [
    {
     "name": "stdout",
     "output_type": "stream",
     "text": [
      "This is my string\n",
      "Yes\n",
      "Yes\n",
      "Yes\n",
      "Yes\n"
     ]
    }
   ],
   "source": [
    "my_string = 'This is my string'\n",
    "print (my_string)\n",
    "\n",
    "for item in my_string:\n",
    "    if 'This' == item:\n",
    "        print ('Yes')\n",
    "\n",
    "for item in my_string.split(' '):\n",
    "    print ('Yes')\n",
    "\n",
    "#    if 'This' in my_string:\n",
    "#        print ('Yes')"
   ]
  },
  {
   "cell_type": "code",
   "execution_count": 4,
   "metadata": {},
   "outputs": [
    {
     "name": "stdout",
     "output_type": "stream",
     "text": [
      "{'username': 'bob1', 'password': 'secure', 'classes': ['Python', 'Jenkins', 'Ansible']}\n",
      "Python\n",
      "Jenkins\n",
      "Ansible\n"
     ]
    }
   ],
   "source": [
    "student = {'username': 'bob1',\n",
    "           'password': 'secure',\n",
    "           'classes' : ['Python', 'Jenkins', 'Ansible']}\n",
    "print (student)\n",
    "\n",
    "for c in student['classes']:\n",
    "    print (c)\n"
   ]
  },
  {
   "cell_type": "code",
   "execution_count": 2,
   "metadata": {},
   "outputs": [
    {
     "name": "stdout",
     "output_type": "stream",
     "text": [
      "Enter full name: bob smith\n",
      "Enter username: BOB1\n",
      "Enter password: secure\n",
      "You successfully registerd\n",
      "Do you want to turn off?  yes/no : no\n",
      "Enter full name: Amy Smith\n",
      "Enter username: AMY1\n",
      "Enter password: secure\n",
      "You successfully registerd\n",
      "Do you want to turn off?  yes/no : y\n",
      "Turning off !!!\n",
      "[{'fullname': 'Bob smith', 'username': 'bob1', 'password': 'secure'}, {'fullname': 'Amy smith', 'username': 'amy1', 'password': 'secure'}]\n"
     ]
    }
   ],
   "source": [
    "import time \n",
    "database = []\n",
    "yesAnswer = ['YES', 'Yes', 'y', 'Y', 'YeS', 'yes']\n",
    "while True:\n",
    "    studentObject = {}\n",
    "    studentObject ['fullname'] = input ('Enter full name: ').capitalize()\n",
    "    studentObject ['username'] = input ('Enter username: ').lower()\n",
    "    studentObject ['password'] = input ('Enter password: ')\n",
    "    time.sleep(2)\n",
    "    database.append(studentObject)\n",
    "    print (f'You successfully registerd')\n",
    "    \n",
    "    time.sleep(10)\n",
    "    \n",
    "    answer = input ('Do you want to turn off?  yes/no : ')\n",
    "    if answer in yesAnswer:\n",
    "        print ('Turning off !!!')\n",
    "        break \n",
    "    \n",
    "print (database)"
   ]
  },
  {
   "cell_type": "code",
   "execution_count": 3,
   "metadata": {},
   "outputs": [
    {
     "name": "stdout",
     "output_type": "stream",
     "text": [
      "[master e35ff04] for-loop\n",
      " 2 files changed, 341 insertions(+)\n",
      " create mode 100644 .ipynb_checkpoints/for-loop-checkpoint.ipynb\n",
      " create mode 100644 for-loop.ipynb\n",
      "Counting objects: 7, done.\n",
      "Delta compression using up to 4 threads.\n",
      "Compressing objects: 100% (5/5), done.\n",
      "Writing objects: 100% (5/5), 2.60 KiB | 0 bytes/s, done.\n",
      "Total 5 (delta 1), reused 0 (delta 0)\n",
      "remote: Resolving deltas: 100% (1/1), completed with 1 local object.\u001b[K\n",
      "To git@github.com:azaa1/python-project.git\n",
      "   6926bc0..e35ff04  master -> master\n"
     ]
    }
   ],
   "source": [
    "! git add . && git commit -m 'for-loop' && git push origin master "
   ]
  },
  {
   "cell_type": "code",
   "execution_count": 5,
   "metadata": {},
   "outputs": [
    {
     "name": "stdout",
     "output_type": "stream",
     "text": [
      "[master e50a55c] for-loop\n",
      " 1 file changed, 24 insertions(+), 3 deletions(-)\n",
      "Counting objects: 5, done.\n",
      "Delta compression using up to 4 threads.\n",
      "Compressing objects: 100% (3/3), done.\n",
      "Writing objects: 100% (3/3), 688 bytes | 0 bytes/s, done.\n",
      "Total 3 (delta 2), reused 0 (delta 0)\n",
      "remote: Resolving deltas: 100% (2/2), completed with 2 local objects.\u001b[K\n",
      "To git@github.com:azaa1/python-project.git\n",
      "   e35ff04..e50a55c  master -> master\n"
     ]
    }
   ],
   "source": [
    "! git add . && git commit -m 'for-loop' && git push origin master \n"
   ]
  },
  {
   "cell_type": "code",
   "execution_count": null,
   "metadata": {},
   "outputs": [],
   "source": []
  }
 ],
 "metadata": {
  "kernelspec": {
   "display_name": "Python 3",
   "language": "python",
   "name": "python3"
  },
  "language_info": {
   "codemirror_mode": {
    "name": "ipython",
    "version": 3
   },
   "file_extension": ".py",
   "mimetype": "text/x-python",
   "name": "python",
   "nbconvert_exporter": "python",
   "pygments_lexer": "ipython3",
   "version": "3.6.5"
  }
 },
 "nbformat": 4,
 "nbformat_minor": 2
}
