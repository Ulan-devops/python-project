{
 "cells": [
  {
   "cell_type": "code",
   "execution_count": 13,
   "metadata": {},
   "outputs": [],
   "source": [
    "# Function - A function is a block of code which only runs when it is called.\n",
    "\n",
    "# You can pass data, known as parameters, into a function.\n",
    "\n",
    "# A function can return data as a result.\n",
    "\n",
    "# In Python a function is defined using the 'def' keyword:\n",
    "\n",
    "\n",
    "def my_function (username, password):\n",
    "    print (f'User {username}')\n",
    "    print (f'Password {password}')\n",
    "    \n",
    "    "
   ]
  },
  {
   "cell_type": "code",
   "execution_count": 11,
   "metadata": {},
   "outputs": [
    {
     "name": "stdout",
     "output_type": "stream",
     "text": [
      "User bob\n",
      "Password smith\n"
     ]
    }
   ],
   "source": [
    "my_function ('bob', 'smith')"
   ]
  },
  {
   "cell_type": "code",
   "execution_count": 70,
   "metadata": {},
   "outputs": [],
   "source": [
    "mydatabase = []\n",
    "\n",
    "# a function to create a new member\n",
    "def new_member(first_name, last_name, username, group):\n",
    "    member = {}\n",
    "    member ['first-name'] = first_name.capitalize ()\n",
    "    member ['last-name'] = last_name.capitalize ()\n",
    "    member ['username'] = username.lower ()\n",
    "    member ['group'] = group.capitalize ()\n",
    "    mydatabase.append(member)\n",
    "    print (f'User {username}, has been added to mydatabase')\n",
    "    \n",
    "# function to delete members by 'username'  \n",
    "def delete_member(username):\n",
    "    for user in mydatabase:\n",
    "        if user['username'] == username:\n",
    "            mydatabase.remove(user)\n",
    "\n",
    "# function to change 'first-name' and 'last-name' of a member          \n",
    "def change_fullname(username, first_name = None, last_name = None):\n",
    "    for user in mydatabase: \n",
    "        if user['username'] == username: \n",
    "            if first_name:\n",
    "                user['first-name'] = first_name\n",
    "                print ('First Name has been updated')\n",
    "            if last_name:\n",
    "                user['last-name'] = last_name\n",
    "                print ('Last Name has been updated')\n",
    "\n",
    "# Finding a member by username\n",
    "def member_exist(username):\n",
    "    for user in mydatabase:\n",
    "        if username == user['username']:\n",
    "            return True\n",
    "    return False\n",
    "\n",
    "# Finding a user by 'username', return user, if user does NOT exist return FALSE\n",
    "\n",
    "def find_member(username):\n",
    "    for user in mydatabase:\n",
    "        if username == user['username']:\n",
    "            return user\n",
    "    return False"
   ]
  },
  {
   "cell_type": "code",
   "execution_count": 71,
   "metadata": {},
   "outputs": [
    {
     "name": "stdout",
     "output_type": "stream",
     "text": [
      "User bsmith, has been added to mydatabase\n",
      "User sdavis, has been added to mydatabase\n",
      "[{'first-name': 'Bob', 'last-name': 'Smith', 'username': 'bsmith', 'group': 'Member'}, {'first-name': 'Sam', 'last-name': 'Davis', 'username': 'sdavis', 'group': 'Member'}]\n"
     ]
    }
   ],
   "source": [
    "# adding new members\n",
    "new_member('bob', 'smith', 'bsmith', 'member')\n",
    "new_member('sam', 'davis', 'sdavis', 'member')\n",
    "print (mydatabase)"
   ]
  },
  {
   "cell_type": "code",
   "execution_count": 72,
   "metadata": {},
   "outputs": [
    {
     "name": "stdout",
     "output_type": "stream",
     "text": [
      "[{'first-name': 'Bob', 'last-name': 'Smith', 'username': 'bsmith', 'group': 'Member'}]\n"
     ]
    }
   ],
   "source": [
    "# deleting a member\n",
    "delete_member('sdavis')\n",
    "print (mydatabase)"
   ]
  },
  {
   "cell_type": "code",
   "execution_count": 73,
   "metadata": {},
   "outputs": [
    {
     "name": "stdout",
     "output_type": "stream",
     "text": [
      "First Name has been updated\n",
      "[{'first-name': 'Robert', 'last-name': 'Smith', 'username': 'bsmith', 'group': 'Member'}]\n"
     ]
    }
   ],
   "source": [
    "# changing a member's name\n",
    "change_fullname('bsmith', 'Robert')\n",
    "print (mydatabase)"
   ]
  },
  {
   "cell_type": "code",
   "execution_count": 74,
   "metadata": {},
   "outputs": [
    {
     "name": "stdout",
     "output_type": "stream",
     "text": [
      "True\n"
     ]
    }
   ],
   "source": [
    "# finding a member by 'username'\n",
    "print (member_exist('bsmith'))"
   ]
  },
  {
   "cell_type": "code",
   "execution_count": 75,
   "metadata": {},
   "outputs": [
    {
     "name": "stdout",
     "output_type": "stream",
     "text": [
      "{'first-name': 'Robert', 'last-name': 'Smith', 'username': 'bsmith', 'group': 'Member'}\n"
     ]
    }
   ],
   "source": [
    "# finding a member by 'username' and returning user\n",
    "print (find_member('bsmith'))"
   ]
  },
  {
   "cell_type": "code",
   "execution_count": 39,
   "metadata": {},
   "outputs": [
    {
     "data": {
      "text/plain": [
       "25"
      ]
     },
     "execution_count": 39,
     "metadata": {},
     "output_type": "execute_result"
    }
   ],
   "source": [
    "my_function3 (5)"
   ]
  },
  {
   "cell_type": "code",
   "execution_count": 3,
   "metadata": {},
   "outputs": [],
   "source": [
    "def fraction(x,y):\n",
    "    return x / y * 100    "
   ]
  },
  {
   "cell_type": "code",
   "execution_count": 4,
   "metadata": {},
   "outputs": [
    {
     "data": {
      "text/plain": [
       "60.0"
      ]
     },
     "execution_count": 4,
     "metadata": {},
     "output_type": "execute_result"
    }
   ],
   "source": [
    "fraction(3,5)"
   ]
  },
  {
   "cell_type": "code",
   "execution_count": 17,
   "metadata": {},
   "outputs": [
    {
     "name": "stdout",
     "output_type": "stream",
     "text": [
      "apple\n",
      "banana\n",
      "cherry\n"
     ]
    }
   ],
   "source": [
    "def my_function2(food):\n",
    "    for x in food:\n",
    "        print (x)\n",
    "\n",
    "fruits = ['apple', 'banana', 'cherry']\n",
    "my_function2(fruits)"
   ]
  },
  {
   "cell_type": "code",
   "execution_count": 18,
   "metadata": {},
   "outputs": [
    {
     "name": "stdout",
     "output_type": "stream",
     "text": [
      "15\n"
     ]
    }
   ],
   "source": [
    "def my_function3(x):\n",
    "    return 5 * x\n",
    "print (my_function3 (3))"
   ]
  },
  {
   "cell_type": "code",
   "execution_count": null,
   "metadata": {},
   "outputs": [],
   "source": []
  }
 ],
 "metadata": {
  "kernelspec": {
   "display_name": "Python 3",
   "language": "python",
   "name": "python3"
  },
  "language_info": {
   "codemirror_mode": {
    "name": "ipython",
    "version": 3
   },
   "file_extension": ".py",
   "mimetype": "text/x-python",
   "name": "python",
   "nbconvert_exporter": "python",
   "pygments_lexer": "ipython3",
   "version": "3.6.5"
  }
 },
 "nbformat": 4,
 "nbformat_minor": 2
}
