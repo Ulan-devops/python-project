{
 "cells": [
  {
   "cell_type": "code",
   "execution_count": 1,
   "metadata": {},
   "outputs": [
    {
     "name": "stdout",
     "output_type": "stream",
     "text": [
      "Hello World!\n"
     ]
    }
   ],
   "source": [
    "print (\"Hello World!\")"
   ]
  },
  {
   "cell_type": "code",
   "execution_count": 4,
   "metadata": {},
   "outputs": [
    {
     "name": "stdout",
     "output_type": "stream",
     "text": [
      "Help on built-in function dir in module builtins:\n",
      "\n",
      "dir(...)\n",
      "    dir([object]) -> list of strings\n",
      "    \n",
      "    If called without an argument, return the names in the current scope.\n",
      "    Else, return an alphabetized list of names comprising (some of) the attributes\n",
      "    of the given object, and of attributes reachable from it.\n",
      "    If the object supplies a method named __dir__, it will be used; otherwise\n",
      "    the default dir() logic is used and returns:\n",
      "      for a module object: the module's attributes.\n",
      "      for a class object:  its attributes, and recursively the attributes\n",
      "        of its bases.\n",
      "      for any other object: its attributes, its class's attributes, and\n",
      "        recursively the attributes of its class's base classes.\n",
      "\n"
     ]
    }
   ],
   "source": [
    "var = 'This is my string'\n",
    "help(dir)"
   ]
  },
  {
   "cell_type": "code",
   "execution_count": 78,
   "metadata": {},
   "outputs": [
    {
     "data": {
      "text/plain": [
       "bool"
      ]
     },
     "execution_count": 78,
     "metadata": {},
     "output_type": "execute_result"
    }
   ],
   "source": [
    "# The 'is' operator, compares identities: \n",
    "# If we compared our var with the 'is' operator, we’d get “True” as an answer.\n",
    "# Because the variable 'var' stores the 'True'. If it was anything else but 'True',\n",
    "# then the answer would be 'False'. \n",
    "\n",
    "var = True\n",
    "var is True\n",
    "\n",
    "type(var)"
   ]
  },
  {
   "cell_type": "code",
   "execution_count": 7,
   "metadata": {},
   "outputs": [
    {
     "name": "stdout",
     "output_type": "stream",
     "text": [
      "/ahmadali\n"
     ]
    }
   ],
   "source": [
    "# Get the current working directory, using \"os\" module\n",
    "\n",
    "import os\n",
    "print (os.getcwd())"
   ]
  },
  {
   "cell_type": "code",
   "execution_count": 77,
   "metadata": {},
   "outputs": [
    {
     "data": {
      "text/plain": [
       "str"
      ]
     },
     "execution_count": 77,
     "metadata": {},
     "output_type": "execute_result"
    }
   ],
   "source": [
    "mystring = 'example'\n",
    "mystring is 'example'\n",
    "\n",
    "type(mystring)"
   ]
  },
  {
   "cell_type": "code",
   "execution_count": 28,
   "metadata": {},
   "outputs": [
    {
     "data": {
      "text/plain": [
       "bool"
      ]
     },
     "execution_count": 28,
     "metadata": {},
     "output_type": "execute_result"
    }
   ],
   "source": [
    "# Boolean values are the two constant objects False and True. \n",
    "# They are used to represent truth values (other values can also be considered false or true).\n",
    "\n",
    "var1 = True\n",
    "var2 = False\n",
    "\n",
    "type(var1)"
   ]
  },
  {
   "cell_type": "code",
   "execution_count": 76,
   "metadata": {},
   "outputs": [
    {
     "name": "stdout",
     "output_type": "stream",
     "text": [
      "20\n"
     ]
    },
    {
     "data": {
      "text/plain": [
       "int"
      ]
     },
     "execution_count": 76,
     "metadata": {},
     "output_type": "execute_result"
    }
   ],
   "source": [
    "# Subtraction using python\n",
    "# We can substitute '-' with '+' or any other math function. \n",
    "\n",
    "mynum = 25\n",
    "othernum = 5\n",
    "result = mynum - othernum\n",
    "\n",
    "print(result)\n",
    "\n",
    "type(result)"
   ]
  },
  {
   "cell_type": "code",
   "execution_count": 17,
   "metadata": {},
   "outputs": [
    {
     "data": {
      "text/plain": [
       "float"
      ]
     },
     "execution_count": 17,
     "metadata": {},
     "output_type": "execute_result"
    }
   ],
   "source": [
    "# Floats - represent real numbers and are written with a decimal point dividing the integer and fractional parts. \n",
    "\n",
    "myfloat = 1.4\n",
    "type(myfloat)"
   ]
  },
  {
   "cell_type": "code",
   "execution_count": 75,
   "metadata": {},
   "outputs": [
    {
     "name": "stdout",
     "output_type": "stream",
     "text": [
      "1\n",
      "2\n",
      "3\n"
     ]
    },
    {
     "data": {
      "text/plain": [
       "range"
      ]
     },
     "execution_count": 75,
     "metadata": {},
     "output_type": "execute_result"
    }
   ],
   "source": [
    "# The range() function returns a sequence of numbers,\n",
    "# starting from 0 by default, and increments by 1 (by default), and ends at a specified number.\n",
    "\n",
    "data = range(1, 10)\n",
    "print(data[0])\n",
    "print (data[1])\n",
    "print (data[2])\n",
    "\n",
    "type(data)"
   ]
  },
  {
   "cell_type": "code",
   "execution_count": 57,
   "metadata": {},
   "outputs": [
    {
     "name": "stdout",
     "output_type": "stream",
     "text": [
      "['Bob']\n",
      "['Bob', 'Sam']\n",
      "['Bob']\n",
      "['Bob', 'Sam']\n",
      "['Bob', 'Sam', 'Sam']\n",
      "2\n",
      "['Bob', 'Sam']\n",
      "['Bob', 'Sam', 'Amy', 'Dillon', 'Grace']\n",
      "3\n",
      "['Bob', 'Jill', 'Sam', 'Amy', 'Dillon', 'Grace']\n"
     ]
    },
    {
     "data": {
      "text/plain": [
       "list"
      ]
     },
     "execution_count": 57,
     "metadata": {},
     "output_type": "execute_result"
    }
   ],
   "source": [
    "# List is a collection which is ordered and changeable. Allows duplicate members.\n",
    "\n",
    "# The list is added with just 1 user 'Bob'\n",
    "users = ['Bob']\n",
    "print (users)\n",
    "\n",
    "# We are appending the list of 'users', but adding 1 more user 'Sam'\n",
    "# Now the list 'users' have 2 users: 'Bob' and 'Sam'\n",
    "\n",
    "users.append('Sam')\n",
    "print (users)\n",
    "\n",
    "# Here we are removing user 'Sam' from the list\n",
    "\n",
    "users.remove('Sam')\n",
    "print (users)\n",
    "\n",
    "# Here we are adding 'Sam' again\n",
    "\n",
    "users.append('Sam')\n",
    "print (users)\n",
    "\n",
    "# We can add 'Sam' to same list again\n",
    "\n",
    "users.append('Sam')\n",
    "print (users)\n",
    "\n",
    "# If we need to count how many times the 'Sam' has appeared in the list\n",
    "\n",
    "print (users.count('Sam'))\n",
    "\n",
    "# If we need to delete the last item from the list we can use 'pop'\n",
    "\n",
    "users.pop()\n",
    "print(users)\n",
    "\n",
    "# Add more users to the list \n",
    "users.append ('Amy')\n",
    "users.append ('Dillon')\n",
    "users.append ('Grace')\n",
    "\n",
    "print(users)\n",
    "\n",
    "# Find the index of an item in the list\n",
    "\n",
    "findIndex = users.index('Dillon')\n",
    "print (findIndex)\n",
    "# since 'Dillon' is on the index 3, remember index starts from 0, we should see 3\n",
    "\n",
    "# Insert an item to a specific index on the list\n",
    "users.insert(1, 'Jill')\n",
    "print (users)\n",
    "\n",
    "type(users)"
   ]
  },
  {
   "cell_type": "code",
   "execution_count": 74,
   "metadata": {},
   "outputs": [
    {
     "name": "stdout",
     "output_type": "stream",
     "text": [
      "{'type': 'fruit', 'color': 'orange', 'count': 1, 'product of': 'florida'}\n",
      "dict_values(['fruit', 'orange', 1, 'florida'])\n",
      "dict_keys(['type', 'color', 'count', 'product of'])\n",
      "{'type': 'fruit', 'color': 'red', 'count': 1, 'product of': 'florida'}\n"
     ]
    },
    {
     "data": {
      "text/plain": [
       "dict"
      ]
     },
     "execution_count": 74,
     "metadata": {},
     "output_type": "execute_result"
    }
   ],
   "source": [
    "# Dictionary in Python is an unordered collection of data values, used to store data values like a map, \n",
    "# which unlike other Data Types that hold only single value as an element, Dictionary holds key:value pair. \n",
    "# Key value is provided in the dictionary to make it more optimized. \n",
    "# Each key-value pair in a Dictionary is separated by a colon :, whereas each key is separated by a ‘comma’.\n",
    "# Dictionary can be created by placing sequence of elements within curly {} braces, separated by ‘comma’.\n",
    "\n",
    "item = {'type': 'fruit', 'color' : 'orange'}\n",
    "type(item)\n",
    "\n",
    "# appending dictionary \n",
    "\n",
    "item['count'] = 1\n",
    "item['product of'] = 'florida'\n",
    "print (item)\n",
    "\n",
    "# Finding values \n",
    "\n",
    "values = item.values()\n",
    "print (values)\n",
    "\n",
    "# Finding keys\n",
    "\n",
    "keys = item.keys ()\n",
    "print (keys)\n",
    "\n",
    "# Finding if the item key is equal to a value \n",
    "\n",
    "item['type'] is 'fruit'\n",
    "# in this case the answer is \"True\" as the the value of the key 'type' is 'fruit'\n",
    "\n",
    "# Changing the 'color' from 'orange' to 'red'\n",
    "\n",
    "item['color'] = 'red'\n",
    "print (item)\n",
    "# if the value does exit on the dictionary it will be appended, if the value does not exist,\n",
    "# this will add a new 'key' : 'value'\n",
    "\n",
    "type(item)"
   ]
  },
  {
   "cell_type": "code",
   "execution_count": null,
   "metadata": {},
   "outputs": [],
   "source": []
  }
 ],
 "metadata": {
  "kernelspec": {
   "display_name": "Python 3",
   "language": "python",
   "name": "python3"
  },
  "language_info": {
   "codemirror_mode": {
    "name": "ipython",
    "version": 3
   },
   "file_extension": ".py",
   "mimetype": "text/x-python",
   "name": "python",
   "nbconvert_exporter": "python",
   "pygments_lexer": "ipython3",
   "version": "3.6.5"
  }
 },
 "nbformat": 4,
 "nbformat_minor": 2
}
